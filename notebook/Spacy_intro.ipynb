{
  "nbformat": 4,
  "nbformat_minor": 0,
  "metadata": {
    "colab": {
      "name": "Spacy_intro.ipynb",
      "provenance": []
    },
    "kernelspec": {
      "name": "python3",
      "display_name": "Python 3"
    },
    "language_info": {
      "name": "python"
    }
  },
  "cells": [
    {
      "cell_type": "code",
      "metadata": {
        "colab": {
          "base_uri": "https://localhost:8080/"
        },
        "id": "rArDe8UcIMIG",
        "outputId": "6b4dd764-979b-43b0-8cae-856ee6e510a5"
      },
      "source": [
        "import spacy\n",
        "import logging\n",
        "import pandas as pd\n",
        "from gensim.models import Word2Vec\n",
        "\n",
        "# Download do módulo do spacy para português\n",
        "!python -m spacy download pt_core_news_sm"
      ],
      "execution_count": 1,
      "outputs": [
        {
          "output_type": "stream",
          "text": [
            "Collecting pt_core_news_sm==2.2.5\n",
            "  Downloading https://github.com/explosion/spacy-models/releases/download/pt_core_news_sm-2.2.5/pt_core_news_sm-2.2.5.tar.gz (21.2 MB)\n",
            "\u001b[K     |████████████████████████████████| 21.2 MB 1.3 MB/s \n",
            "\u001b[?25hRequirement already satisfied: spacy>=2.2.2 in /usr/local/lib/python3.7/dist-packages (from pt_core_news_sm==2.2.5) (2.2.4)\n",
            "Requirement already satisfied: catalogue<1.1.0,>=0.0.7 in /usr/local/lib/python3.7/dist-packages (from spacy>=2.2.2->pt_core_news_sm==2.2.5) (1.0.0)\n",
            "Requirement already satisfied: preshed<3.1.0,>=3.0.2 in /usr/local/lib/python3.7/dist-packages (from spacy>=2.2.2->pt_core_news_sm==2.2.5) (3.0.5)\n",
            "Requirement already satisfied: plac<1.2.0,>=0.9.6 in /usr/local/lib/python3.7/dist-packages (from spacy>=2.2.2->pt_core_news_sm==2.2.5) (1.1.3)\n",
            "Requirement already satisfied: numpy>=1.15.0 in /usr/local/lib/python3.7/dist-packages (from spacy>=2.2.2->pt_core_news_sm==2.2.5) (1.19.5)\n",
            "Requirement already satisfied: tqdm<5.0.0,>=4.38.0 in /usr/local/lib/python3.7/dist-packages (from spacy>=2.2.2->pt_core_news_sm==2.2.5) (4.41.1)\n",
            "Requirement already satisfied: cymem<2.1.0,>=2.0.2 in /usr/local/lib/python3.7/dist-packages (from spacy>=2.2.2->pt_core_news_sm==2.2.5) (2.0.5)\n",
            "Requirement already satisfied: srsly<1.1.0,>=1.0.2 in /usr/local/lib/python3.7/dist-packages (from spacy>=2.2.2->pt_core_news_sm==2.2.5) (1.0.5)\n",
            "Requirement already satisfied: thinc==7.4.0 in /usr/local/lib/python3.7/dist-packages (from spacy>=2.2.2->pt_core_news_sm==2.2.5) (7.4.0)\n",
            "Requirement already satisfied: wasabi<1.1.0,>=0.4.0 in /usr/local/lib/python3.7/dist-packages (from spacy>=2.2.2->pt_core_news_sm==2.2.5) (0.8.2)\n",
            "Requirement already satisfied: requests<3.0.0,>=2.13.0 in /usr/local/lib/python3.7/dist-packages (from spacy>=2.2.2->pt_core_news_sm==2.2.5) (2.23.0)\n",
            "Requirement already satisfied: setuptools in /usr/local/lib/python3.7/dist-packages (from spacy>=2.2.2->pt_core_news_sm==2.2.5) (57.2.0)\n",
            "Requirement already satisfied: blis<0.5.0,>=0.4.0 in /usr/local/lib/python3.7/dist-packages (from spacy>=2.2.2->pt_core_news_sm==2.2.5) (0.4.1)\n",
            "Requirement already satisfied: murmurhash<1.1.0,>=0.28.0 in /usr/local/lib/python3.7/dist-packages (from spacy>=2.2.2->pt_core_news_sm==2.2.5) (1.0.5)\n",
            "Requirement already satisfied: importlib-metadata>=0.20 in /usr/local/lib/python3.7/dist-packages (from catalogue<1.1.0,>=0.0.7->spacy>=2.2.2->pt_core_news_sm==2.2.5) (4.6.1)\n",
            "Requirement already satisfied: zipp>=0.5 in /usr/local/lib/python3.7/dist-packages (from importlib-metadata>=0.20->catalogue<1.1.0,>=0.0.7->spacy>=2.2.2->pt_core_news_sm==2.2.5) (3.5.0)\n",
            "Requirement already satisfied: typing-extensions>=3.6.4 in /usr/local/lib/python3.7/dist-packages (from importlib-metadata>=0.20->catalogue<1.1.0,>=0.0.7->spacy>=2.2.2->pt_core_news_sm==2.2.5) (3.7.4.3)\n",
            "Requirement already satisfied: urllib3!=1.25.0,!=1.25.1,<1.26,>=1.21.1 in /usr/local/lib/python3.7/dist-packages (from requests<3.0.0,>=2.13.0->spacy>=2.2.2->pt_core_news_sm==2.2.5) (1.24.3)\n",
            "Requirement already satisfied: chardet<4,>=3.0.2 in /usr/local/lib/python3.7/dist-packages (from requests<3.0.0,>=2.13.0->spacy>=2.2.2->pt_core_news_sm==2.2.5) (3.0.4)\n",
            "Requirement already satisfied: certifi>=2017.4.17 in /usr/local/lib/python3.7/dist-packages (from requests<3.0.0,>=2.13.0->spacy>=2.2.2->pt_core_news_sm==2.2.5) (2021.5.30)\n",
            "Requirement already satisfied: idna<3,>=2.5 in /usr/local/lib/python3.7/dist-packages (from requests<3.0.0,>=2.13.0->spacy>=2.2.2->pt_core_news_sm==2.2.5) (2.10)\n",
            "\u001b[38;5;2m✔ Download and installation successful\u001b[0m\n",
            "You can now load the model via spacy.load('pt_core_news_sm')\n"
          ],
          "name": "stdout"
        }
      ]
    },
    {
      "cell_type": "code",
      "metadata": {
        "id": "PTAVKodgISLK"
      },
      "source": [
        "dados_treino = pd.read_csv('/content/drive/MyDrive/Colab Notebooks/curso word2vec/treino.csv')\n",
        "dados_teste = pd.read_csv('/content/drive/MyDrive/Colab Notebooks/curso word2vec/teste.csv')"
      ],
      "execution_count": 2,
      "outputs": []
    },
    {
      "cell_type": "code",
      "metadata": {
        "colab": {
          "base_uri": "https://localhost:8080/",
          "height": 357
        },
        "id": "3ZQv9XhEIsQZ",
        "outputId": "296a0c1c-d11c-4340-aa80-a8e639c08d28"
      },
      "source": [
        "dados_treino.sample(5)"
      ],
      "execution_count": 3,
      "outputs": [
        {
          "output_type": "execute_result",
          "data": {
            "text/html": [
              "<div>\n",
              "<style scoped>\n",
              "    .dataframe tbody tr th:only-of-type {\n",
              "        vertical-align: middle;\n",
              "    }\n",
              "\n",
              "    .dataframe tbody tr th {\n",
              "        vertical-align: top;\n",
              "    }\n",
              "\n",
              "    .dataframe thead th {\n",
              "        text-align: right;\n",
              "    }\n",
              "</style>\n",
              "<table border=\"1\" class=\"dataframe\">\n",
              "  <thead>\n",
              "    <tr style=\"text-align: right;\">\n",
              "      <th></th>\n",
              "      <th>title</th>\n",
              "      <th>text</th>\n",
              "      <th>date</th>\n",
              "      <th>category</th>\n",
              "      <th>subcategory</th>\n",
              "      <th>link</th>\n",
              "    </tr>\n",
              "  </thead>\n",
              "  <tbody>\n",
              "    <tr>\n",
              "      <th>70690</th>\n",
              "      <td>Obama diz que líderes internacionais estão 'su...</td>\n",
              "      <td>Líderes internacionais estão \"surpresos\" com o...</td>\n",
              "      <td>2016-05-26</td>\n",
              "      <td>mundo</td>\n",
              "      <td>NaN</td>\n",
              "      <td>http://www1.folha.uol.com.br/mundo/2016/05/177...</td>\n",
              "    </tr>\n",
              "    <tr>\n",
              "      <th>81775</th>\n",
              "      <td>Coleção reúne tiras de Flash Gordon de jornais...</td>\n",
              "      <td>Ao lado de Super-Homem, Batman e Tarzan, també...</td>\n",
              "      <td>2016-02-01</td>\n",
              "      <td>ilustrada</td>\n",
              "      <td>NaN</td>\n",
              "      <td>http://www1.folha.uol.com.br/ilustrada/2016/01...</td>\n",
              "    </tr>\n",
              "    <tr>\n",
              "      <th>47988</th>\n",
              "      <td>Partido das Farc se chamará Força Alternativa ...</td>\n",
              "      <td>Força Alternativa Revolucionária do Comum foi ...</td>\n",
              "      <td>2017-08-31</td>\n",
              "      <td>mundo</td>\n",
              "      <td>NaN</td>\n",
              "      <td>http://www1.folha.uol.com.br/mundo/2017/08/191...</td>\n",
              "    </tr>\n",
              "    <tr>\n",
              "      <th>69946</th>\n",
              "      <td>Rivais desafiam domínio de Trump em debate rep...</td>\n",
              "      <td>Pela primeira vez desde a abertura da campanha...</td>\n",
              "      <td>2016-01-15</td>\n",
              "      <td>mundo</td>\n",
              "      <td>NaN</td>\n",
              "      <td>http://www1.folha.uol.com.br/mundo/2016/01/172...</td>\n",
              "    </tr>\n",
              "    <tr>\n",
              "      <th>77797</th>\n",
              "      <td>Ator Odin Biron assume risco e revela ser gay ...</td>\n",
              "      <td>Em fevereiro, Odin Biron, ator americano que i...</td>\n",
              "      <td>2015-04-25</td>\n",
              "      <td>ilustrada</td>\n",
              "      <td>NaN</td>\n",
              "      <td>http://www1.folha.uol.com.br/ilustrada/2015/04...</td>\n",
              "    </tr>\n",
              "  </tbody>\n",
              "</table>\n",
              "</div>"
            ],
            "text/plain": [
              "                                                   title  ...                                               link\n",
              "70690  Obama diz que líderes internacionais estão 'su...  ...  http://www1.folha.uol.com.br/mundo/2016/05/177...\n",
              "81775  Coleção reúne tiras de Flash Gordon de jornais...  ...  http://www1.folha.uol.com.br/ilustrada/2016/01...\n",
              "47988  Partido das Farc se chamará Força Alternativa ...  ...  http://www1.folha.uol.com.br/mundo/2017/08/191...\n",
              "69946  Rivais desafiam domínio de Trump em debate rep...  ...  http://www1.folha.uol.com.br/mundo/2016/01/172...\n",
              "77797  Ator Odin Biron assume risco e revela ser gay ...  ...  http://www1.folha.uol.com.br/ilustrada/2015/04...\n",
              "\n",
              "[5 rows x 6 columns]"
            ]
          },
          "metadata": {
            "tags": []
          },
          "execution_count": 3
        }
      ]
    },
    {
      "cell_type": "markdown",
      "metadata": {
        "id": "w3IF0X6EOs73"
      },
      "source": [
        "#### Carregando modelo do Português"
      ]
    },
    {
      "cell_type": "code",
      "metadata": {
        "id": "xgLQWrTsJh9_"
      },
      "source": [
        "# nlp é a variável padrão para receber o modelo\n",
        "nlp = spacy.load('pt_core_news_sm')"
      ],
      "execution_count": 4,
      "outputs": []
    },
    {
      "cell_type": "markdown",
      "metadata": {
        "id": "qwnGrJxdO53l"
      },
      "source": [
        "###### Testes gerais"
      ]
    },
    {
      "cell_type": "code",
      "metadata": {
        "colab": {
          "base_uri": "https://localhost:8080/"
        },
        "id": "I51kK9T7KSHh",
        "outputId": "10a70ff6-6299-4f97-b0bb-a516c37fd527"
      },
      "source": [
        "texto_exemplo = 'Fortaleza é uma cidade cheia de belezas'\n",
        "\n",
        "# Cria uma estrutura especial do spacy chamada DOC\n",
        "doc = nlp(texto_exemplo)\n",
        "print(doc)"
      ],
      "execution_count": 5,
      "outputs": [
        {
          "output_type": "stream",
          "text": [
            "Fortaleza é uma cidade cheia de belezas\n"
          ],
          "name": "stdout"
        }
      ]
    },
    {
      "cell_type": "code",
      "metadata": {
        "colab": {
          "base_uri": "https://localhost:8080/"
        },
        "id": "27WYjuahLE3r",
        "outputId": "ffd65d4b-4bc4-4006-d893-84f2f353e534"
      },
      "source": [
        "type(doc)"
      ],
      "execution_count": 6,
      "outputs": [
        {
          "output_type": "execute_result",
          "data": {
            "text/plain": [
              "spacy.tokens.doc.Doc"
            ]
          },
          "metadata": {
            "tags": []
          },
          "execution_count": 6
        }
      ]
    },
    {
      "cell_type": "code",
      "metadata": {
        "colab": {
          "base_uri": "https://localhost:8080/"
        },
        "id": "_yqAmV37LruW",
        "outputId": "eaeec0f4-3df8-469d-989c-c9cc67962383"
      },
      "source": [
        "print(doc[0])\n",
        "print(doc.ents)\n",
        "print(doc[1])\n",
        "print(doc[1].is_stop)"
      ],
      "execution_count": 7,
      "outputs": [
        {
          "output_type": "stream",
          "text": [
            "Fortaleza\n",
            "(Fortaleza,)\n",
            "é\n",
            "True\n"
          ],
          "name": "stdout"
        }
      ]
    },
    {
      "cell_type": "markdown",
      "metadata": {
        "id": "9U28e1X8PBfP"
      },
      "source": [
        "### Pré-Processamento dos Dados"
      ]
    },
    {
      "cell_type": "code",
      "metadata": {
        "colab": {
          "base_uri": "https://localhost:8080/"
        },
        "id": "1P1cEio5PU2X",
        "outputId": "d685eb58-38b9-4959-df47-a3ffbed6a38f"
      },
      "source": [
        "# Estrutura para otimizar a geração dos textos\n",
        "textos_tratamento = (titulos.lower() for titulos in dados_treino.title)\n",
        "textos_tratamento"
      ],
      "execution_count": 8,
      "outputs": [
        {
          "output_type": "execute_result",
          "data": {
            "text/plain": [
              "<generator object <genexpr> at 0x7f57b86f2750>"
            ]
          },
          "metadata": {
            "tags": []
          },
          "execution_count": 8
        }
      ]
    },
    {
      "cell_type": "code",
      "metadata": {
        "id": "fQx8Oup1OXh5"
      },
      "source": [
        "def trata_textos(doc):\n",
        "  tokens_validos = []\n",
        "\n",
        "  for token in doc:\n",
        "    e_valido = (not token.is_stop) and token.is_alpha # verificação se o token não é stop word e é alphabetical\n",
        "    if e_valido:\n",
        "      tokens_validos.append(token.text)\n",
        "\n",
        "  if len(tokens_validos) > 2:\n",
        "    return \" \".join(tokens_validos)"
      ],
      "execution_count": 9,
      "outputs": []
    },
    {
      "cell_type": "code",
      "metadata": {
        "colab": {
          "base_uri": "https://localhost:8080/",
          "height": 35
        },
        "id": "41GRqU4JT3gm",
        "outputId": "9de155d9-c9ac-4c22-c1aa-0071a33bc3d5"
      },
      "source": [
        "texto_exemplo = 'Fortaleza, é uma \"cidade\"! 1235 %7 && cheia de belezas'\n",
        "\n",
        "doc = nlp(texto_exemplo)\n",
        "trata_textos(doc)"
      ],
      "execution_count": 10,
      "outputs": [
        {
          "output_type": "execute_result",
          "data": {
            "application/vnd.google.colaboratory.intrinsic+json": {
              "type": "string"
            },
            "text/plain": [
              "'Fortaleza cidade cheia belezas'"
            ]
          },
          "metadata": {
            "tags": []
          },
          "execution_count": 10
        }
      ]
    },
    {
      "cell_type": "code",
      "metadata": {
        "id": "IvrG1uWvUH4e"
      },
      "source": [
        "# Criando uma lista com os titulos tratados usando a estrutura do doc\n",
        "textos_tratados = [trata_textos(doc) for doc in nlp.pipe(textos_tratamento,\n",
        "                                                        batch_size=1000,\n",
        "                                                        n_process=-1)]"
      ],
      "execution_count": 11,
      "outputs": []
    },
    {
      "cell_type": "code",
      "metadata": {
        "colab": {
          "base_uri": "https://localhost:8080/"
        },
        "id": "RvPbsJzsXayo",
        "outputId": "c3225313-1e44-4167-f60a-e91e249e3143"
      },
      "source": [
        "textos_tratados[0:5]"
      ],
      "execution_count": 12,
      "outputs": [
        {
          "output_type": "execute_result",
          "data": {
            "text/plain": [
              "['polêmica marine le pen abomina negacionistas holocausto',\n",
              " 'macron e le pen a o turno frança revés siglas tradicionais',\n",
              " 'apesar larga vitória legislativas macron terá desafios frente',\n",
              " 'governo antecipa balanço e alckmin anuncia queda homicídios sp',\n",
              " 'queda maio a atividade econômica sobe junho bc']"
            ]
          },
          "metadata": {
            "tags": []
          },
          "execution_count": 12
        }
      ]
    },
    {
      "cell_type": "code",
      "metadata": {
        "colab": {
          "base_uri": "https://localhost:8080/",
          "height": 419
        },
        "id": "VJbjU_n7Ze5x",
        "outputId": "e504fd65-6faf-4cef-bb75-1b5531c327a2"
      },
      "source": [
        "titulos_tratados = pd.DataFrame({\"titulo\": textos_tratados})\n",
        "titulos_tratados"
      ],
      "execution_count": 13,
      "outputs": [
        {
          "output_type": "execute_result",
          "data": {
            "text/html": [
              "<div>\n",
              "<style scoped>\n",
              "    .dataframe tbody tr th:only-of-type {\n",
              "        vertical-align: middle;\n",
              "    }\n",
              "\n",
              "    .dataframe tbody tr th {\n",
              "        vertical-align: top;\n",
              "    }\n",
              "\n",
              "    .dataframe thead th {\n",
              "        text-align: right;\n",
              "    }\n",
              "</style>\n",
              "<table border=\"1\" class=\"dataframe\">\n",
              "  <thead>\n",
              "    <tr style=\"text-align: right;\">\n",
              "      <th></th>\n",
              "      <th>titulo</th>\n",
              "    </tr>\n",
              "  </thead>\n",
              "  <tbody>\n",
              "    <tr>\n",
              "      <th>0</th>\n",
              "      <td>polêmica marine le pen abomina negacionistas h...</td>\n",
              "    </tr>\n",
              "    <tr>\n",
              "      <th>1</th>\n",
              "      <td>macron e le pen a o turno frança revés siglas ...</td>\n",
              "    </tr>\n",
              "    <tr>\n",
              "      <th>2</th>\n",
              "      <td>apesar larga vitória legislativas macron terá ...</td>\n",
              "    </tr>\n",
              "    <tr>\n",
              "      <th>3</th>\n",
              "      <td>governo antecipa balanço e alckmin anuncia que...</td>\n",
              "    </tr>\n",
              "    <tr>\n",
              "      <th>4</th>\n",
              "      <td>queda maio a atividade econômica sobe junho bc</td>\n",
              "    </tr>\n",
              "    <tr>\n",
              "      <th>...</th>\n",
              "      <td>...</td>\n",
              "    </tr>\n",
              "    <tr>\n",
              "      <th>89995</th>\n",
              "      <td>mural há anos aeroporto recebido moradores gua...</td>\n",
              "    </tr>\n",
              "    <tr>\n",
              "      <th>89996</th>\n",
              "      <td>notícias schumacher boas ferrari</td>\n",
              "    </tr>\n",
              "    <tr>\n",
              "      <th>89997</th>\n",
              "      <td>olho bilhões governo conceder áreas petróleo</td>\n",
              "    </tr>\n",
              "    <tr>\n",
              "      <th>89998</th>\n",
              "      <td>moro deu a lula o papel coitadinho</td>\n",
              "    </tr>\n",
              "    <tr>\n",
              "      <th>89999</th>\n",
              "      <td>velocidade aprovação reformas excedido expecta...</td>\n",
              "    </tr>\n",
              "  </tbody>\n",
              "</table>\n",
              "<p>90000 rows × 1 columns</p>\n",
              "</div>"
            ],
            "text/plain": [
              "                                                  titulo\n",
              "0      polêmica marine le pen abomina negacionistas h...\n",
              "1      macron e le pen a o turno frança revés siglas ...\n",
              "2      apesar larga vitória legislativas macron terá ...\n",
              "3      governo antecipa balanço e alckmin anuncia que...\n",
              "4         queda maio a atividade econômica sobe junho bc\n",
              "...                                                  ...\n",
              "89995  mural há anos aeroporto recebido moradores gua...\n",
              "89996                   notícias schumacher boas ferrari\n",
              "89997       olho bilhões governo conceder áreas petróleo\n",
              "89998                 moro deu a lula o papel coitadinho\n",
              "89999  velocidade aprovação reformas excedido expecta...\n",
              "\n",
              "[90000 rows x 1 columns]"
            ]
          },
          "metadata": {
            "tags": []
          },
          "execution_count": 13
        }
      ]
    },
    {
      "cell_type": "code",
      "metadata": {
        "colab": {
          "base_uri": "https://localhost:8080/"
        },
        "id": "Eu3YiUJVqFqZ",
        "outputId": "428c2a2a-4bd6-46fa-ad0c-fa4a83599855"
      },
      "source": [
        "titulos_tratados.isna().sum()"
      ],
      "execution_count": 14,
      "outputs": [
        {
          "output_type": "execute_result",
          "data": {
            "text/plain": [
              "titulo    3690\n",
              "dtype: int64"
            ]
          },
          "metadata": {
            "tags": []
          },
          "execution_count": 14
        }
      ]
    },
    {
      "cell_type": "code",
      "metadata": {
        "id": "0fQZVkMuqK6t"
      },
      "source": [
        "titulos_tratados = titulos_tratados.dropna().drop_duplicates()"
      ],
      "execution_count": 15,
      "outputs": []
    },
    {
      "cell_type": "code",
      "metadata": {
        "id": "pVCp5ypHmgKQ"
      },
      "source": [
        "lista_lista_tokens = [titulo.split(' ') for titulo in titulos_tratados.titulo]"
      ],
      "execution_count": 17,
      "outputs": []
    },
    {
      "cell_type": "code",
      "metadata": {
        "id": "LYMfr4RaJqqk"
      },
      "source": [
        "logging.basicConfig(format='%(asctime)s : %(message)s', level=logging.INFO)"
      ],
      "execution_count": null,
      "outputs": []
    },
    {
      "cell_type": "markdown",
      "metadata": {
        "id": "icwYjjyVRni7"
      },
      "source": [
        "# Word2Vec Builder"
      ]
    },
    {
      "cell_type": "markdown",
      "metadata": {
        "id": "RIvpasqDJo-E"
      },
      "source": [
        "## Treinamento do CBOW"
      ]
    },
    {
      "cell_type": "code",
      "metadata": {
        "colab": {
          "base_uri": "https://localhost:8080/"
        },
        "id": "1PjtzMwcmyob",
        "outputId": "31436446-c5e7-452a-da63-b41cb3fa2495"
      },
      "source": [
        "w2v_modelo_cbow = Word2Vec(sg=0, window=2, \n",
        "                           size=300, min_count=5, \n",
        "                           alpha=0.03, min_alpha=0.007)\n",
        "\n",
        "w2v_modelo_cbow.build_vocab(lista_lista_tokens, progress_per=5000)"
      ],
      "execution_count": 18,
      "outputs": [
        {
          "output_type": "stream",
          "text": [
            "2021-07-26 23:13:45,756 : collecting all words and their counts\n",
            "2021-07-26 23:13:45,758 : PROGRESS: at sentence #0, processed 0 words, keeping 0 word types\n",
            "2021-07-26 23:13:45,775 : PROGRESS: at sentence #5000, processed 34716 words, keeping 10129 word types\n",
            "2021-07-26 23:13:45,788 : PROGRESS: at sentence #10000, processed 69298 words, keeping 14909 word types\n",
            "2021-07-26 23:13:45,803 : PROGRESS: at sentence #15000, processed 103841 words, keeping 18223 word types\n",
            "2021-07-26 23:13:45,819 : PROGRESS: at sentence #20000, processed 138620 words, keeping 20969 word types\n",
            "2021-07-26 23:13:45,839 : PROGRESS: at sentence #25000, processed 173257 words, keeping 23410 word types\n",
            "2021-07-26 23:13:45,852 : PROGRESS: at sentence #30000, processed 207976 words, keeping 25453 word types\n",
            "2021-07-26 23:13:45,867 : PROGRESS: at sentence #35000, processed 242567 words, keeping 27263 word types\n",
            "2021-07-26 23:13:45,885 : PROGRESS: at sentence #40000, processed 277254 words, keeping 28992 word types\n",
            "2021-07-26 23:13:45,901 : PROGRESS: at sentence #45000, processed 311910 words, keeping 30561 word types\n",
            "2021-07-26 23:13:45,918 : PROGRESS: at sentence #50000, processed 346641 words, keeping 31924 word types\n",
            "2021-07-26 23:13:45,933 : PROGRESS: at sentence #55000, processed 381564 words, keeping 33224 word types\n",
            "2021-07-26 23:13:45,950 : PROGRESS: at sentence #60000, processed 416318 words, keeping 34458 word types\n",
            "2021-07-26 23:13:45,975 : PROGRESS: at sentence #65000, processed 451172 words, keeping 35585 word types\n",
            "2021-07-26 23:13:45,992 : PROGRESS: at sentence #70000, processed 485882 words, keeping 36651 word types\n",
            "2021-07-26 23:13:46,008 : PROGRESS: at sentence #75000, processed 520667 words, keeping 37767 word types\n",
            "2021-07-26 23:13:46,027 : PROGRESS: at sentence #80000, processed 555521 words, keeping 38741 word types\n",
            "2021-07-26 23:13:46,048 : PROGRESS: at sentence #85000, processed 590198 words, keeping 39739 word types\n",
            "2021-07-26 23:13:46,054 : collected 39968 word types from a corpus of 597929 raw words and 86113 sentences\n",
            "2021-07-26 23:13:46,056 : Loading a fresh vocabulary\n",
            "2021-07-26 23:13:46,106 : effective_min_count=5 retains 13006 unique words (32% of original 39968, drops 26962)\n",
            "2021-07-26 23:13:46,108 : effective_min_count=5 leaves 552614 word corpus (92% of original 597929, drops 45315)\n",
            "2021-07-26 23:13:46,155 : deleting the raw counts dictionary of 39968 items\n",
            "2021-07-26 23:13:46,158 : sample=0.001 downsamples 11 most-common words\n",
            "2021-07-26 23:13:46,160 : downsampling leaves estimated 502900 word corpus (91.0% of prior 552614)\n",
            "2021-07-26 23:13:46,211 : estimated required memory for 13006 words and 300 dimensions: 37717400 bytes\n",
            "2021-07-26 23:13:46,215 : resetting layer weights\n"
          ],
          "name": "stderr"
        }
      ]
    },
    {
      "cell_type": "code",
      "metadata": {
        "colab": {
          "base_uri": "https://localhost:8080/"
        },
        "id": "fTO_6GA8vdF-",
        "outputId": "89e55775-922e-44c2-c261-028b33d5956c"
      },
      "source": [
        "w2v_modelo_cbow.train(lista_lista_tokens, \n",
        "                      total_examples=w2v_modelo_cbow.corpus_count, epochs=30)"
      ],
      "execution_count": 22,
      "outputs": [
        {
          "output_type": "stream",
          "text": [
            "2021-07-26 23:22:59,318 : training model with 3 workers on 13006 vocabulary and 300 features, using sg=0 hs=0 sample=0.001 negative=5 window=2\n",
            "2021-07-26 23:23:00,333 : EPOCH 1 - PROGRESS: at 68.61% examples, 344519 words/s, in_qsize 6, out_qsize 2\n",
            "2021-07-26 23:23:00,653 : worker thread finished; awaiting finish of 2 more threads\n",
            "2021-07-26 23:23:00,682 : worker thread finished; awaiting finish of 1 more threads\n",
            "2021-07-26 23:23:00,686 : worker thread finished; awaiting finish of 0 more threads\n",
            "2021-07-26 23:23:00,688 : EPOCH - 1 : training on 597929 raw words (502752 effective words) took 1.4s, 371220 effective words/s\n",
            "2021-07-26 23:23:01,704 : EPOCH 2 - PROGRESS: at 70.26% examples, 350687 words/s, in_qsize 5, out_qsize 0\n",
            "2021-07-26 23:23:02,051 : worker thread finished; awaiting finish of 2 more threads\n",
            "2021-07-26 23:23:02,061 : worker thread finished; awaiting finish of 1 more threads\n",
            "2021-07-26 23:23:02,074 : worker thread finished; awaiting finish of 0 more threads\n",
            "2021-07-26 23:23:02,075 : EPOCH - 2 : training on 597929 raw words (502828 effective words) took 1.4s, 364983 effective words/s\n",
            "2021-07-26 23:23:03,104 : EPOCH 3 - PROGRESS: at 73.60% examples, 363766 words/s, in_qsize 5, out_qsize 0\n",
            "2021-07-26 23:23:03,398 : worker thread finished; awaiting finish of 2 more threads\n",
            "2021-07-26 23:23:03,405 : worker thread finished; awaiting finish of 1 more threads\n",
            "2021-07-26 23:23:03,425 : worker thread finished; awaiting finish of 0 more threads\n",
            "2021-07-26 23:23:03,426 : EPOCH - 3 : training on 597929 raw words (502589 effective words) took 1.3s, 375483 effective words/s\n",
            "2021-07-26 23:23:04,450 : EPOCH 4 - PROGRESS: at 73.58% examples, 366101 words/s, in_qsize 4, out_qsize 1\n",
            "2021-07-26 23:23:04,749 : worker thread finished; awaiting finish of 2 more threads\n",
            "2021-07-26 23:23:04,755 : worker thread finished; awaiting finish of 1 more threads\n",
            "2021-07-26 23:23:04,770 : worker thread finished; awaiting finish of 0 more threads\n",
            "2021-07-26 23:23:04,773 : EPOCH - 4 : training on 597929 raw words (502953 effective words) took 1.3s, 377354 effective words/s\n",
            "2021-07-26 23:23:05,814 : EPOCH 5 - PROGRESS: at 71.91% examples, 353264 words/s, in_qsize 5, out_qsize 0\n",
            "2021-07-26 23:23:06,118 : worker thread finished; awaiting finish of 2 more threads\n",
            "2021-07-26 23:23:06,152 : worker thread finished; awaiting finish of 1 more threads\n",
            "2021-07-26 23:23:06,158 : worker thread finished; awaiting finish of 0 more threads\n",
            "2021-07-26 23:23:06,160 : EPOCH - 5 : training on 597929 raw words (503053 effective words) took 1.4s, 367172 effective words/s\n",
            "2021-07-26 23:23:07,183 : EPOCH 6 - PROGRESS: at 71.91% examples, 359032 words/s, in_qsize 5, out_qsize 0\n",
            "2021-07-26 23:23:07,508 : worker thread finished; awaiting finish of 2 more threads\n",
            "2021-07-26 23:23:07,526 : worker thread finished; awaiting finish of 1 more threads\n",
            "2021-07-26 23:23:07,534 : worker thread finished; awaiting finish of 0 more threads\n",
            "2021-07-26 23:23:07,535 : EPOCH - 6 : training on 597929 raw words (502691 effective words) took 1.4s, 369862 effective words/s\n",
            "2021-07-26 23:23:08,556 : EPOCH 7 - PROGRESS: at 73.58% examples, 367233 words/s, in_qsize 5, out_qsize 0\n",
            "2021-07-26 23:23:08,857 : worker thread finished; awaiting finish of 2 more threads\n",
            "2021-07-26 23:23:08,875 : worker thread finished; awaiting finish of 1 more threads\n",
            "2021-07-26 23:23:08,882 : worker thread finished; awaiting finish of 0 more threads\n",
            "2021-07-26 23:23:08,884 : EPOCH - 7 : training on 597929 raw words (502859 effective words) took 1.3s, 376668 effective words/s\n",
            "2021-07-26 23:23:09,899 : EPOCH 8 - PROGRESS: at 73.60% examples, 369397 words/s, in_qsize 5, out_qsize 0\n",
            "2021-07-26 23:23:10,219 : worker thread finished; awaiting finish of 2 more threads\n",
            "2021-07-26 23:23:10,221 : worker thread finished; awaiting finish of 1 more threads\n",
            "2021-07-26 23:23:10,245 : worker thread finished; awaiting finish of 0 more threads\n",
            "2021-07-26 23:23:10,246 : EPOCH - 8 : training on 597929 raw words (502967 effective words) took 1.3s, 372949 effective words/s\n",
            "2021-07-26 23:23:11,291 : EPOCH 9 - PROGRESS: at 73.60% examples, 359433 words/s, in_qsize 5, out_qsize 0\n",
            "2021-07-26 23:23:11,579 : worker thread finished; awaiting finish of 2 more threads\n",
            "2021-07-26 23:23:11,593 : worker thread finished; awaiting finish of 1 more threads\n",
            "2021-07-26 23:23:11,605 : worker thread finished; awaiting finish of 0 more threads\n",
            "2021-07-26 23:23:11,607 : EPOCH - 9 : training on 597929 raw words (502867 effective words) took 1.3s, 374005 effective words/s\n",
            "2021-07-26 23:23:12,645 : EPOCH 10 - PROGRESS: at 73.59% examples, 360656 words/s, in_qsize 4, out_qsize 1\n",
            "2021-07-26 23:23:12,911 : worker thread finished; awaiting finish of 2 more threads\n",
            "2021-07-26 23:23:12,935 : worker thread finished; awaiting finish of 1 more threads\n",
            "2021-07-26 23:23:12,944 : worker thread finished; awaiting finish of 0 more threads\n",
            "2021-07-26 23:23:12,946 : EPOCH - 10 : training on 597929 raw words (502963 effective words) took 1.3s, 379292 effective words/s\n",
            "2021-07-26 23:23:13,967 : EPOCH 11 - PROGRESS: at 75.27% examples, 375553 words/s, in_qsize 5, out_qsize 0\n",
            "2021-07-26 23:23:14,263 : worker thread finished; awaiting finish of 2 more threads\n",
            "2021-07-26 23:23:14,272 : worker thread finished; awaiting finish of 1 more threads\n",
            "2021-07-26 23:23:14,286 : worker thread finished; awaiting finish of 0 more threads\n",
            "2021-07-26 23:23:14,289 : EPOCH - 11 : training on 597929 raw words (502976 effective words) took 1.3s, 378352 effective words/s\n",
            "2021-07-26 23:23:15,350 : EPOCH 12 - PROGRESS: at 76.93% examples, 370598 words/s, in_qsize 5, out_qsize 0\n",
            "2021-07-26 23:23:15,595 : worker thread finished; awaiting finish of 2 more threads\n",
            "2021-07-26 23:23:15,599 : worker thread finished; awaiting finish of 1 more threads\n",
            "2021-07-26 23:23:15,622 : worker thread finished; awaiting finish of 0 more threads\n",
            "2021-07-26 23:23:15,624 : EPOCH - 12 : training on 597929 raw words (502988 effective words) took 1.3s, 381763 effective words/s\n",
            "2021-07-26 23:23:16,651 : EPOCH 13 - PROGRESS: at 73.60% examples, 364662 words/s, in_qsize 5, out_qsize 0\n",
            "2021-07-26 23:23:16,936 : worker thread finished; awaiting finish of 2 more threads\n",
            "2021-07-26 23:23:16,954 : worker thread finished; awaiting finish of 1 more threads\n",
            "2021-07-26 23:23:16,963 : worker thread finished; awaiting finish of 0 more threads\n",
            "2021-07-26 23:23:16,965 : EPOCH - 13 : training on 597929 raw words (502810 effective words) took 1.3s, 378550 effective words/s\n",
            "2021-07-26 23:23:18,011 : EPOCH 14 - PROGRESS: at 73.58% examples, 357989 words/s, in_qsize 4, out_qsize 1\n",
            "2021-07-26 23:23:18,270 : worker thread finished; awaiting finish of 2 more threads\n",
            "2021-07-26 23:23:18,300 : worker thread finished; awaiting finish of 1 more threads\n",
            "2021-07-26 23:23:18,305 : worker thread finished; awaiting finish of 0 more threads\n",
            "2021-07-26 23:23:18,308 : EPOCH - 14 : training on 597929 raw words (503049 effective words) took 1.3s, 378105 effective words/s\n",
            "2021-07-26 23:23:19,336 : EPOCH 15 - PROGRESS: at 73.58% examples, 363706 words/s, in_qsize 5, out_qsize 0\n",
            "2021-07-26 23:23:19,639 : worker thread finished; awaiting finish of 2 more threads\n",
            "2021-07-26 23:23:19,642 : worker thread finished; awaiting finish of 1 more threads\n",
            "2021-07-26 23:23:19,658 : worker thread finished; awaiting finish of 0 more threads\n",
            "2021-07-26 23:23:19,659 : EPOCH - 15 : training on 597929 raw words (502732 effective words) took 1.3s, 375190 effective words/s\n",
            "2021-07-26 23:23:20,703 : EPOCH 16 - PROGRESS: at 75.27% examples, 368209 words/s, in_qsize 4, out_qsize 1\n",
            "2021-07-26 23:23:20,960 : worker thread finished; awaiting finish of 2 more threads\n",
            "2021-07-26 23:23:20,973 : worker thread finished; awaiting finish of 1 more threads\n",
            "2021-07-26 23:23:20,974 : worker thread finished; awaiting finish of 0 more threads\n",
            "2021-07-26 23:23:20,979 : EPOCH - 16 : training on 597929 raw words (502973 effective words) took 1.3s, 385744 effective words/s\n",
            "2021-07-26 23:23:21,995 : EPOCH 17 - PROGRESS: at 75.28% examples, 377023 words/s, in_qsize 5, out_qsize 0\n",
            "2021-07-26 23:23:22,259 : worker thread finished; awaiting finish of 2 more threads\n",
            "2021-07-26 23:23:22,282 : worker thread finished; awaiting finish of 1 more threads\n",
            "2021-07-26 23:23:22,289 : worker thread finished; awaiting finish of 0 more threads\n",
            "2021-07-26 23:23:22,291 : EPOCH - 17 : training on 597929 raw words (502971 effective words) took 1.3s, 386680 effective words/s\n",
            "2021-07-26 23:23:23,336 : EPOCH 18 - PROGRESS: at 75.27% examples, 366643 words/s, in_qsize 4, out_qsize 1\n",
            "2021-07-26 23:23:23,588 : worker thread finished; awaiting finish of 2 more threads\n",
            "2021-07-26 23:23:23,608 : worker thread finished; awaiting finish of 1 more threads\n",
            "2021-07-26 23:23:23,618 : worker thread finished; awaiting finish of 0 more threads\n",
            "2021-07-26 23:23:23,619 : EPOCH - 18 : training on 597929 raw words (502768 effective words) took 1.3s, 382242 effective words/s\n",
            "2021-07-26 23:23:24,659 : EPOCH 19 - PROGRESS: at 75.26% examples, 368826 words/s, in_qsize 4, out_qsize 1\n",
            "2021-07-26 23:23:24,917 : worker thread finished; awaiting finish of 2 more threads\n",
            "2021-07-26 23:23:24,927 : worker thread finished; awaiting finish of 1 more threads\n",
            "2021-07-26 23:23:24,935 : worker thread finished; awaiting finish of 0 more threads\n",
            "2021-07-26 23:23:24,938 : EPOCH - 19 : training on 597929 raw words (502828 effective words) took 1.3s, 385331 effective words/s\n",
            "2021-07-26 23:23:25,970 : EPOCH 20 - PROGRESS: at 73.60% examples, 364310 words/s, in_qsize 5, out_qsize 0\n",
            "2021-07-26 23:23:26,272 : worker thread finished; awaiting finish of 2 more threads\n",
            "2021-07-26 23:23:26,279 : worker thread finished; awaiting finish of 1 more threads\n",
            "2021-07-26 23:23:26,290 : worker thread finished; awaiting finish of 0 more threads\n",
            "2021-07-26 23:23:26,292 : EPOCH - 20 : training on 597929 raw words (502943 effective words) took 1.3s, 376173 effective words/s\n",
            "2021-07-26 23:23:27,321 : EPOCH 21 - PROGRESS: at 75.27% examples, 372760 words/s, in_qsize 5, out_qsize 0\n",
            "2021-07-26 23:23:27,599 : worker thread finished; awaiting finish of 2 more threads\n",
            "2021-07-26 23:23:27,602 : worker thread finished; awaiting finish of 1 more threads\n",
            "2021-07-26 23:23:27,619 : worker thread finished; awaiting finish of 0 more threads\n",
            "2021-07-26 23:23:27,620 : EPOCH - 21 : training on 597929 raw words (503073 effective words) took 1.3s, 382619 effective words/s\n",
            "2021-07-26 23:23:28,646 : EPOCH 22 - PROGRESS: at 76.94% examples, 381802 words/s, in_qsize 5, out_qsize 0\n",
            "2021-07-26 23:23:28,869 : worker thread finished; awaiting finish of 2 more threads\n",
            "2021-07-26 23:23:28,907 : worker thread finished; awaiting finish of 1 more threads\n",
            "2021-07-26 23:23:28,912 : worker thread finished; awaiting finish of 0 more threads\n",
            "2021-07-26 23:23:28,915 : EPOCH - 22 : training on 597929 raw words (502858 effective words) took 1.3s, 392223 effective words/s\n",
            "2021-07-26 23:23:29,944 : EPOCH 23 - PROGRESS: at 76.94% examples, 382063 words/s, in_qsize 5, out_qsize 0\n",
            "2021-07-26 23:23:30,175 : worker thread finished; awaiting finish of 2 more threads\n",
            "2021-07-26 23:23:30,190 : worker thread finished; awaiting finish of 1 more threads\n",
            "2021-07-26 23:23:30,204 : worker thread finished; awaiting finish of 0 more threads\n",
            "2021-07-26 23:23:30,206 : EPOCH - 23 : training on 597929 raw words (503059 effective words) took 1.3s, 394622 effective words/s\n",
            "2021-07-26 23:23:31,219 : EPOCH 24 - PROGRESS: at 76.94% examples, 386349 words/s, in_qsize 5, out_qsize 0\n",
            "2021-07-26 23:23:31,475 : worker thread finished; awaiting finish of 2 more threads\n",
            "2021-07-26 23:23:31,485 : worker thread finished; awaiting finish of 1 more threads\n",
            "2021-07-26 23:23:31,492 : worker thread finished; awaiting finish of 0 more threads\n",
            "2021-07-26 23:23:31,494 : EPOCH - 24 : training on 597929 raw words (502744 effective words) took 1.3s, 394128 effective words/s\n",
            "2021-07-26 23:23:32,556 : EPOCH 25 - PROGRESS: at 78.61% examples, 377383 words/s, in_qsize 5, out_qsize 0\n",
            "2021-07-26 23:23:32,761 : worker thread finished; awaiting finish of 2 more threads\n",
            "2021-07-26 23:23:32,787 : worker thread finished; awaiting finish of 1 more threads\n",
            "2021-07-26 23:23:32,797 : worker thread finished; awaiting finish of 0 more threads\n",
            "2021-07-26 23:23:32,799 : EPOCH - 25 : training on 597929 raw words (502833 effective words) took 1.3s, 389490 effective words/s\n",
            "2021-07-26 23:23:33,826 : EPOCH 26 - PROGRESS: at 76.93% examples, 381144 words/s, in_qsize 5, out_qsize 0\n",
            "2021-07-26 23:23:34,063 : worker thread finished; awaiting finish of 2 more threads\n",
            "2021-07-26 23:23:34,065 : worker thread finished; awaiting finish of 1 more threads\n",
            "2021-07-26 23:23:34,089 : worker thread finished; awaiting finish of 0 more threads\n",
            "2021-07-26 23:23:34,090 : EPOCH - 26 : training on 597929 raw words (502893 effective words) took 1.3s, 393260 effective words/s\n",
            "2021-07-26 23:23:35,118 : EPOCH 27 - PROGRESS: at 73.60% examples, 364526 words/s, in_qsize 4, out_qsize 1\n",
            "2021-07-26 23:23:35,381 : worker thread finished; awaiting finish of 2 more threads\n",
            "2021-07-26 23:23:35,398 : worker thread finished; awaiting finish of 1 more threads\n",
            "2021-07-26 23:23:35,403 : worker thread finished; awaiting finish of 0 more threads\n",
            "2021-07-26 23:23:35,406 : EPOCH - 27 : training on 597929 raw words (502811 effective words) took 1.3s, 385982 effective words/s\n",
            "2021-07-26 23:23:36,427 : EPOCH 28 - PROGRESS: at 73.59% examples, 367522 words/s, in_qsize 5, out_qsize 0\n",
            "2021-07-26 23:23:36,685 : worker thread finished; awaiting finish of 2 more threads\n",
            "2021-07-26 23:23:36,715 : worker thread finished; awaiting finish of 1 more threads\n",
            "2021-07-26 23:23:36,725 : worker thread finished; awaiting finish of 0 more threads\n",
            "2021-07-26 23:23:36,727 : EPOCH - 28 : training on 597929 raw words (502787 effective words) took 1.3s, 385057 effective words/s\n",
            "2021-07-26 23:23:37,756 : EPOCH 29 - PROGRESS: at 76.94% examples, 380750 words/s, in_qsize 5, out_qsize 0\n",
            "2021-07-26 23:23:37,990 : worker thread finished; awaiting finish of 2 more threads\n",
            "2021-07-26 23:23:38,012 : worker thread finished; awaiting finish of 1 more threads\n",
            "2021-07-26 23:23:38,017 : worker thread finished; awaiting finish of 0 more threads\n",
            "2021-07-26 23:23:38,019 : EPOCH - 29 : training on 597929 raw words (502904 effective words) took 1.3s, 393357 effective words/s\n",
            "2021-07-26 23:23:39,047 : EPOCH 30 - PROGRESS: at 75.28% examples, 374612 words/s, in_qsize 5, out_qsize 0\n",
            "2021-07-26 23:23:39,312 : worker thread finished; awaiting finish of 2 more threads\n",
            "2021-07-26 23:23:39,315 : worker thread finished; awaiting finish of 1 more threads\n",
            "2021-07-26 23:23:39,328 : worker thread finished; awaiting finish of 0 more threads\n",
            "2021-07-26 23:23:39,330 : EPOCH - 30 : training on 597929 raw words (502787 effective words) took 1.3s, 388691 effective words/s\n",
            "2021-07-26 23:23:39,333 : training on a 17937870 raw words (15086309 effective words) took 40.0s, 377060 effective words/s\n"
          ],
          "name": "stderr"
        },
        {
          "output_type": "execute_result",
          "data": {
            "text/plain": [
              "(15086309, 17937870)"
            ]
          },
          "metadata": {
            "tags": []
          },
          "execution_count": 22
        }
      ]
    },
    {
      "cell_type": "code",
      "metadata": {
        "colab": {
          "base_uri": "https://localhost:8080/"
        },
        "id": "U9d7ZpkhIa-z",
        "outputId": "3959ab8f-e9cd-43ea-9e49-deeddb224e5f"
      },
      "source": [
        "w2v_modelo_cbow.wv.most_similar(positive=['davi'])"
      ],
      "execution_count": 37,
      "outputs": [
        {
          "output_type": "execute_result",
          "data": {
            "text/plain": [
              "[('valéria', 0.6324880123138428),\n",
              " ('ilustrado', 0.6137306690216064),\n",
              " ('poemas', 0.5965014696121216),\n",
              " ('bethânia', 0.5868477821350098),\n",
              " ('contos', 0.5865117907524109),\n",
              " ('dario', 0.5831807851791382),\n",
              " ('arnaldo', 0.5813361406326294),\n",
              " ('sidney', 0.5623471736907959),\n",
              " ('caymmi', 0.5616686344146729),\n",
              " ('debbie', 0.5605387091636658)]"
            ]
          },
          "metadata": {
            "tags": []
          },
          "execution_count": 37
        }
      ]
    },
    {
      "cell_type": "markdown",
      "metadata": {
        "id": "rKR7D2aXJwe_"
      },
      "source": [
        "## Treinamento Skip-Gram"
      ]
    },
    {
      "cell_type": "code",
      "metadata": {
        "id": "CjqAegulqu8y",
        "colab": {
          "base_uri": "https://localhost:8080/"
        },
        "outputId": "663cea18-7331-4a23-97ec-492769099fc4"
      },
      "source": [
        "w2v_modelo_skipgram = Word2Vec(sg=1, window=5, \n",
        "                               size=300, min_count=5, \n",
        "                               alpha=0.03, min_alpha=0.007)\n",
        "\n",
        "w2v_modelo_skipgram.build_vocab(lista_lista_tokens, progress_per=5000)"
      ],
      "execution_count": 42,
      "outputs": [
        {
          "output_type": "stream",
          "text": [
            "2021-07-26 23:35:01,905 : collecting all words and their counts\n",
            "2021-07-26 23:35:01,908 : PROGRESS: at sentence #0, processed 0 words, keeping 0 word types\n",
            "2021-07-26 23:35:01,925 : PROGRESS: at sentence #5000, processed 34716 words, keeping 10129 word types\n",
            "2021-07-26 23:35:01,940 : PROGRESS: at sentence #10000, processed 69298 words, keeping 14909 word types\n",
            "2021-07-26 23:35:01,954 : PROGRESS: at sentence #15000, processed 103841 words, keeping 18223 word types\n",
            "2021-07-26 23:35:01,967 : PROGRESS: at sentence #20000, processed 138620 words, keeping 20969 word types\n",
            "2021-07-26 23:35:01,983 : PROGRESS: at sentence #25000, processed 173257 words, keeping 23410 word types\n",
            "2021-07-26 23:35:01,997 : PROGRESS: at sentence #30000, processed 207976 words, keeping 25453 word types\n",
            "2021-07-26 23:35:02,013 : PROGRESS: at sentence #35000, processed 242567 words, keeping 27263 word types\n",
            "2021-07-26 23:35:02,028 : PROGRESS: at sentence #40000, processed 277254 words, keeping 28992 word types\n",
            "2021-07-26 23:35:02,043 : PROGRESS: at sentence #45000, processed 311910 words, keeping 30561 word types\n",
            "2021-07-26 23:35:02,058 : PROGRESS: at sentence #50000, processed 346641 words, keeping 31924 word types\n",
            "2021-07-26 23:35:02,074 : PROGRESS: at sentence #55000, processed 381564 words, keeping 33224 word types\n",
            "2021-07-26 23:35:02,092 : PROGRESS: at sentence #60000, processed 416318 words, keeping 34458 word types\n",
            "2021-07-26 23:35:02,107 : PROGRESS: at sentence #65000, processed 451172 words, keeping 35585 word types\n",
            "2021-07-26 23:35:02,122 : PROGRESS: at sentence #70000, processed 485882 words, keeping 36651 word types\n",
            "2021-07-26 23:35:02,136 : PROGRESS: at sentence #75000, processed 520667 words, keeping 37767 word types\n",
            "2021-07-26 23:35:02,149 : PROGRESS: at sentence #80000, processed 555521 words, keeping 38741 word types\n",
            "2021-07-26 23:35:02,164 : PROGRESS: at sentence #85000, processed 590198 words, keeping 39739 word types\n",
            "2021-07-26 23:35:02,169 : collected 39968 word types from a corpus of 597929 raw words and 86113 sentences\n",
            "2021-07-26 23:35:02,171 : Loading a fresh vocabulary\n",
            "2021-07-26 23:35:02,222 : effective_min_count=5 retains 13006 unique words (32% of original 39968, drops 26962)\n",
            "2021-07-26 23:35:02,223 : effective_min_count=5 leaves 552614 word corpus (92% of original 597929, drops 45315)\n",
            "2021-07-26 23:35:02,274 : deleting the raw counts dictionary of 39968 items\n",
            "2021-07-26 23:35:02,277 : sample=0.001 downsamples 11 most-common words\n",
            "2021-07-26 23:35:02,280 : downsampling leaves estimated 502900 word corpus (91.0% of prior 552614)\n",
            "2021-07-26 23:35:02,337 : estimated required memory for 13006 words and 300 dimensions: 37717400 bytes\n",
            "2021-07-26 23:35:02,339 : resetting layer weights\n"
          ],
          "name": "stderr"
        }
      ]
    },
    {
      "cell_type": "code",
      "metadata": {
        "colab": {
          "base_uri": "https://localhost:8080/"
        },
        "id": "40fe4BpxJ_eT",
        "outputId": "de7225be-38cc-44a0-f880-43ffe6900456"
      },
      "source": [
        "w2v_modelo_skipgram.train(lista_lista_tokens, \n",
        "                          total_examples=w2v_modelo_skipgram.corpus_count, epochs=30)"
      ],
      "execution_count": 43,
      "outputs": [
        {
          "output_type": "stream",
          "text": [
            "2021-07-26 23:35:05,092 : training model with 3 workers on 13006 vocabulary and 300 features, using sg=1 hs=0 sample=0.001 negative=5 window=5\n",
            "2021-07-26 23:35:06,183 : EPOCH 1 - PROGRESS: at 31.82% examples, 148335 words/s, in_qsize 5, out_qsize 0\n",
            "2021-07-26 23:35:07,289 : EPOCH 1 - PROGRESS: at 65.26% examples, 150223 words/s, in_qsize 4, out_qsize 1\n",
            "2021-07-26 23:35:08,224 : worker thread finished; awaiting finish of 2 more threads\n",
            "2021-07-26 23:35:08,235 : worker thread finished; awaiting finish of 1 more threads\n",
            "2021-07-26 23:35:08,270 : worker thread finished; awaiting finish of 0 more threads\n",
            "2021-07-26 23:35:08,271 : EPOCH - 1 : training on 597929 raw words (502905 effective words) took 3.2s, 158906 effective words/s\n",
            "2021-07-26 23:35:09,349 : EPOCH 2 - PROGRESS: at 30.15% examples, 141613 words/s, in_qsize 4, out_qsize 1\n",
            "2021-07-26 23:35:10,432 : EPOCH 2 - PROGRESS: at 65.27% examples, 152405 words/s, in_qsize 6, out_qsize 0\n",
            "2021-07-26 23:35:11,353 : worker thread finished; awaiting finish of 2 more threads\n",
            "2021-07-26 23:35:11,399 : worker thread finished; awaiting finish of 1 more threads\n",
            "2021-07-26 23:35:11,425 : worker thread finished; awaiting finish of 0 more threads\n",
            "2021-07-26 23:35:11,426 : EPOCH - 2 : training on 597929 raw words (502810 effective words) took 3.1s, 159845 effective words/s\n",
            "2021-07-26 23:35:12,459 : EPOCH 3 - PROGRESS: at 30.14% examples, 148821 words/s, in_qsize 5, out_qsize 0\n",
            "2021-07-26 23:35:13,474 : EPOCH 3 - PROGRESS: at 63.60% examples, 157252 words/s, in_qsize 5, out_qsize 0\n",
            "2021-07-26 23:35:14,489 : EPOCH 3 - PROGRESS: at 96.97% examples, 160062 words/s, in_qsize 2, out_qsize 1\n",
            "2021-07-26 23:35:14,494 : worker thread finished; awaiting finish of 2 more threads\n",
            "2021-07-26 23:35:14,560 : worker thread finished; awaiting finish of 1 more threads\n",
            "2021-07-26 23:35:14,577 : worker thread finished; awaiting finish of 0 more threads\n",
            "2021-07-26 23:35:14,579 : EPOCH - 3 : training on 597929 raw words (502976 effective words) took 3.1s, 160346 effective words/s\n",
            "2021-07-26 23:35:15,632 : EPOCH 4 - PROGRESS: at 31.82% examples, 153712 words/s, in_qsize 5, out_qsize 0\n",
            "2021-07-26 23:35:16,670 : EPOCH 4 - PROGRESS: at 63.60% examples, 153816 words/s, in_qsize 5, out_qsize 0\n",
            "2021-07-26 23:35:17,715 : EPOCH 4 - PROGRESS: at 96.97% examples, 156227 words/s, in_qsize 2, out_qsize 1\n",
            "2021-07-26 23:35:17,722 : worker thread finished; awaiting finish of 2 more threads\n",
            "2021-07-26 23:35:17,747 : worker thread finished; awaiting finish of 1 more threads\n",
            "2021-07-26 23:35:17,763 : worker thread finished; awaiting finish of 0 more threads\n",
            "2021-07-26 23:35:17,764 : EPOCH - 4 : training on 597929 raw words (502966 effective words) took 3.2s, 158563 effective words/s\n",
            "2021-07-26 23:35:18,853 : EPOCH 5 - PROGRESS: at 31.82% examples, 148941 words/s, in_qsize 5, out_qsize 0\n",
            "2021-07-26 23:35:19,855 : EPOCH 5 - PROGRESS: at 63.60% examples, 153942 words/s, in_qsize 5, out_qsize 0\n",
            "2021-07-26 23:35:20,845 : worker thread finished; awaiting finish of 2 more threads\n",
            "2021-07-26 23:35:20,891 : EPOCH 5 - PROGRESS: at 98.64% examples, 159400 words/s, in_qsize 1, out_qsize 1\n",
            "2021-07-26 23:35:20,894 : worker thread finished; awaiting finish of 1 more threads\n",
            "2021-07-26 23:35:20,909 : worker thread finished; awaiting finish of 0 more threads\n",
            "2021-07-26 23:35:20,911 : EPOCH - 5 : training on 597929 raw words (502684 effective words) took 3.1s, 160567 effective words/s\n",
            "2021-07-26 23:35:21,925 : EPOCH 6 - PROGRESS: at 30.15% examples, 150615 words/s, in_qsize 5, out_qsize 0\n",
            "2021-07-26 23:35:22,952 : EPOCH 6 - PROGRESS: at 61.92% examples, 153087 words/s, in_qsize 5, out_qsize 0\n",
            "2021-07-26 23:35:23,956 : EPOCH 6 - PROGRESS: at 95.31% examples, 157900 words/s, in_qsize 3, out_qsize 0\n",
            "2021-07-26 23:35:23,972 : worker thread finished; awaiting finish of 2 more threads\n",
            "2021-07-26 23:35:24,023 : worker thread finished; awaiting finish of 1 more threads\n",
            "2021-07-26 23:35:24,043 : worker thread finished; awaiting finish of 0 more threads\n",
            "2021-07-26 23:35:24,045 : EPOCH - 6 : training on 597929 raw words (503065 effective words) took 3.1s, 160959 effective words/s\n",
            "2021-07-26 23:35:25,102 : EPOCH 7 - PROGRESS: at 30.16% examples, 145074 words/s, in_qsize 4, out_qsize 1\n",
            "2021-07-26 23:35:26,150 : EPOCH 7 - PROGRESS: at 65.27% examples, 156725 words/s, in_qsize 5, out_qsize 0\n",
            "2021-07-26 23:35:27,107 : worker thread finished; awaiting finish of 2 more threads\n",
            "2021-07-26 23:35:27,130 : worker thread finished; awaiting finish of 1 more threads\n",
            "2021-07-26 23:35:27,167 : EPOCH 7 - PROGRESS: at 100.00% examples, 161753 words/s, in_qsize 0, out_qsize 1\n",
            "2021-07-26 23:35:27,168 : worker thread finished; awaiting finish of 0 more threads\n",
            "2021-07-26 23:35:27,170 : EPOCH - 7 : training on 597929 raw words (502930 effective words) took 3.1s, 161613 effective words/s\n",
            "2021-07-26 23:35:28,193 : EPOCH 8 - PROGRESS: at 28.48% examples, 141969 words/s, in_qsize 5, out_qsize 0\n",
            "2021-07-26 23:35:29,269 : EPOCH 8 - PROGRESS: at 63.59% examples, 153334 words/s, in_qsize 5, out_qsize 0\n",
            "2021-07-26 23:35:30,250 : worker thread finished; awaiting finish of 2 more threads\n",
            "2021-07-26 23:35:30,255 : worker thread finished; awaiting finish of 1 more threads\n",
            "2021-07-26 23:35:30,301 : EPOCH 8 - PROGRESS: at 100.00% examples, 161384 words/s, in_qsize 0, out_qsize 1\n",
            "2021-07-26 23:35:30,302 : worker thread finished; awaiting finish of 0 more threads\n",
            "2021-07-26 23:35:30,306 : EPOCH - 8 : training on 597929 raw words (502820 effective words) took 3.1s, 161139 effective words/s\n",
            "2021-07-26 23:35:31,377 : EPOCH 9 - PROGRESS: at 31.82% examples, 150486 words/s, in_qsize 5, out_qsize 0\n",
            "2021-07-26 23:35:32,428 : EPOCH 9 - PROGRESS: at 66.94% examples, 159126 words/s, in_qsize 5, out_qsize 0\n",
            "2021-07-26 23:35:33,327 : worker thread finished; awaiting finish of 2 more threads\n",
            "2021-07-26 23:35:33,374 : worker thread finished; awaiting finish of 1 more threads\n",
            "2021-07-26 23:35:33,391 : worker thread finished; awaiting finish of 0 more threads\n",
            "2021-07-26 23:35:33,392 : EPOCH - 9 : training on 597929 raw words (502924 effective words) took 3.1s, 163433 effective words/s\n",
            "2021-07-26 23:35:34,437 : EPOCH 10 - PROGRESS: at 31.82% examples, 154598 words/s, in_qsize 5, out_qsize 0\n",
            "2021-07-26 23:35:35,459 : EPOCH 10 - PROGRESS: at 63.60% examples, 155455 words/s, in_qsize 5, out_qsize 0\n",
            "2021-07-26 23:35:36,456 : worker thread finished; awaiting finish of 2 more threads\n",
            "2021-07-26 23:35:36,478 : EPOCH 10 - PROGRESS: at 98.33% examples, 160822 words/s, in_qsize 1, out_qsize 1\n",
            "2021-07-26 23:35:36,486 : worker thread finished; awaiting finish of 1 more threads\n",
            "2021-07-26 23:35:36,502 : worker thread finished; awaiting finish of 0 more threads\n",
            "2021-07-26 23:35:36,503 : EPOCH - 10 : training on 597929 raw words (502794 effective words) took 3.1s, 162249 effective words/s\n",
            "2021-07-26 23:35:37,538 : EPOCH 11 - PROGRESS: at 31.82% examples, 156830 words/s, in_qsize 5, out_qsize 0\n",
            "2021-07-26 23:35:38,594 : EPOCH 11 - PROGRESS: at 63.60% examples, 153989 words/s, in_qsize 5, out_qsize 0\n",
            "2021-07-26 23:35:39,598 : EPOCH 11 - PROGRESS: at 96.98% examples, 158413 words/s, in_qsize 2, out_qsize 0\n",
            "2021-07-26 23:35:39,610 : worker thread finished; awaiting finish of 2 more threads\n",
            "2021-07-26 23:35:39,622 : worker thread finished; awaiting finish of 1 more threads\n",
            "2021-07-26 23:35:39,630 : worker thread finished; awaiting finish of 0 more threads\n",
            "2021-07-26 23:35:39,631 : EPOCH - 11 : training on 597929 raw words (502991 effective words) took 3.1s, 161609 effective words/s\n",
            "2021-07-26 23:35:40,667 : EPOCH 12 - PROGRESS: at 30.15% examples, 148341 words/s, in_qsize 5, out_qsize 0\n",
            "2021-07-26 23:35:41,753 : EPOCH 12 - PROGRESS: at 65.27% examples, 155709 words/s, in_qsize 5, out_qsize 0\n",
            "2021-07-26 23:35:42,719 : worker thread finished; awaiting finish of 2 more threads\n",
            "2021-07-26 23:35:42,751 : worker thread finished; awaiting finish of 1 more threads\n",
            "2021-07-26 23:35:42,777 : EPOCH 12 - PROGRESS: at 100.00% examples, 160651 words/s, in_qsize 0, out_qsize 1\n",
            "2021-07-26 23:35:42,778 : worker thread finished; awaiting finish of 0 more threads\n",
            "2021-07-26 23:35:42,782 : EPOCH - 12 : training on 597929 raw words (502940 effective words) took 3.1s, 160376 effective words/s\n",
            "2021-07-26 23:35:43,856 : EPOCH 13 - PROGRESS: at 31.82% examples, 151429 words/s, in_qsize 5, out_qsize 0\n",
            "2021-07-26 23:35:44,861 : EPOCH 13 - PROGRESS: at 65.27% examples, 159137 words/s, in_qsize 5, out_qsize 0\n",
            "2021-07-26 23:35:45,871 : EPOCH 13 - PROGRESS: at 96.98% examples, 158795 words/s, in_qsize 2, out_qsize 1\n",
            "2021-07-26 23:35:45,875 : worker thread finished; awaiting finish of 2 more threads\n",
            "2021-07-26 23:35:45,881 : worker thread finished; awaiting finish of 1 more threads\n",
            "2021-07-26 23:35:45,907 : worker thread finished; awaiting finish of 0 more threads\n",
            "2021-07-26 23:35:45,908 : EPOCH - 13 : training on 597929 raw words (502903 effective words) took 3.1s, 161803 effective words/s\n",
            "2021-07-26 23:35:46,964 : EPOCH 14 - PROGRESS: at 31.83% examples, 153480 words/s, in_qsize 5, out_qsize 0\n",
            "2021-07-26 23:35:48,067 : EPOCH 14 - PROGRESS: at 66.93% examples, 156734 words/s, in_qsize 5, out_qsize 0\n",
            "2021-07-26 23:35:48,967 : worker thread finished; awaiting finish of 2 more threads\n",
            "2021-07-26 23:35:49,008 : worker thread finished; awaiting finish of 1 more threads\n",
            "2021-07-26 23:35:49,027 : worker thread finished; awaiting finish of 0 more threads\n",
            "2021-07-26 23:35:49,030 : EPOCH - 14 : training on 597929 raw words (502813 effective words) took 3.1s, 161786 effective words/s\n",
            "2021-07-26 23:35:50,051 : EPOCH 15 - PROGRESS: at 30.14% examples, 150207 words/s, in_qsize 5, out_qsize 0\n",
            "2021-07-26 23:35:51,061 : EPOCH 15 - PROGRESS: at 61.92% examples, 154217 words/s, in_qsize 4, out_qsize 1\n",
            "2021-07-26 23:35:52,085 : EPOCH 15 - PROGRESS: at 96.98% examples, 160375 words/s, in_qsize 2, out_qsize 1\n",
            "2021-07-26 23:35:52,090 : worker thread finished; awaiting finish of 2 more threads\n",
            "2021-07-26 23:35:52,103 : worker thread finished; awaiting finish of 1 more threads\n",
            "2021-07-26 23:35:52,128 : worker thread finished; awaiting finish of 0 more threads\n",
            "2021-07-26 23:35:52,132 : EPOCH - 15 : training on 597929 raw words (503109 effective words) took 3.1s, 162861 effective words/s\n",
            "2021-07-26 23:35:53,180 : EPOCH 16 - PROGRESS: at 31.82% examples, 154305 words/s, in_qsize 5, out_qsize 0\n",
            "2021-07-26 23:35:54,221 : EPOCH 16 - PROGRESS: at 65.27% examples, 158000 words/s, in_qsize 5, out_qsize 0\n",
            "2021-07-26 23:35:55,172 : worker thread finished; awaiting finish of 2 more threads\n",
            "2021-07-26 23:35:55,186 : worker thread finished; awaiting finish of 1 more threads\n",
            "2021-07-26 23:35:55,230 : EPOCH 16 - PROGRESS: at 100.00% examples, 163026 words/s, in_qsize 0, out_qsize 1\n",
            "2021-07-26 23:35:55,231 : worker thread finished; awaiting finish of 0 more threads\n",
            "2021-07-26 23:35:55,234 : EPOCH - 16 : training on 597929 raw words (502903 effective words) took 3.1s, 162801 effective words/s\n",
            "2021-07-26 23:35:56,287 : EPOCH 17 - PROGRESS: at 31.82% examples, 154970 words/s, in_qsize 5, out_qsize 0\n",
            "2021-07-26 23:35:57,322 : EPOCH 17 - PROGRESS: at 65.27% examples, 158756 words/s, in_qsize 6, out_qsize 0\n",
            "2021-07-26 23:35:58,299 : worker thread finished; awaiting finish of 2 more threads\n",
            "2021-07-26 23:35:58,306 : worker thread finished; awaiting finish of 1 more threads\n",
            "2021-07-26 23:35:58,341 : EPOCH 17 - PROGRESS: at 100.00% examples, 163056 words/s, in_qsize 0, out_qsize 1\n",
            "2021-07-26 23:35:58,342 : worker thread finished; awaiting finish of 0 more threads\n",
            "2021-07-26 23:35:58,344 : EPOCH - 17 : training on 597929 raw words (503019 effective words) took 3.1s, 162909 effective words/s\n",
            "2021-07-26 23:35:59,374 : EPOCH 18 - PROGRESS: at 30.14% examples, 148576 words/s, in_qsize 5, out_qsize 0\n",
            "2021-07-26 23:36:00,380 : EPOCH 18 - PROGRESS: at 63.60% examples, 157779 words/s, in_qsize 6, out_qsize 0\n",
            "2021-07-26 23:36:01,412 : EPOCH 18 - PROGRESS: at 95.29% examples, 156786 words/s, in_qsize 3, out_qsize 0\n",
            "2021-07-26 23:36:01,414 : worker thread finished; awaiting finish of 2 more threads\n",
            "2021-07-26 23:36:01,439 : worker thread finished; awaiting finish of 1 more threads\n",
            "2021-07-26 23:36:01,494 : worker thread finished; awaiting finish of 0 more threads\n",
            "2021-07-26 23:36:01,495 : EPOCH - 18 : training on 597929 raw words (502963 effective words) took 3.1s, 160118 effective words/s\n",
            "2021-07-26 23:36:02,528 : EPOCH 19 - PROGRESS: at 31.82% examples, 156609 words/s, in_qsize 5, out_qsize 0\n",
            "2021-07-26 23:36:03,533 : EPOCH 19 - PROGRESS: at 63.60% examples, 157698 words/s, in_qsize 5, out_qsize 0\n",
            "2021-07-26 23:36:04,509 : worker thread finished; awaiting finish of 2 more threads\n",
            "2021-07-26 23:36:04,575 : EPOCH 19 - PROGRESS: at 98.64% examples, 161693 words/s, in_qsize 1, out_qsize 1\n",
            "2021-07-26 23:36:04,579 : worker thread finished; awaiting finish of 1 more threads\n",
            "2021-07-26 23:36:04,581 : worker thread finished; awaiting finish of 0 more threads\n",
            "2021-07-26 23:36:04,582 : EPOCH - 19 : training on 597929 raw words (502759 effective words) took 3.1s, 163517 effective words/s\n",
            "2021-07-26 23:36:05,630 : EPOCH 20 - PROGRESS: at 31.82% examples, 156865 words/s, in_qsize 5, out_qsize 0\n",
            "2021-07-26 23:36:06,631 : EPOCH 20 - PROGRESS: at 65.27% examples, 162362 words/s, in_qsize 5, out_qsize 0\n",
            "2021-07-26 23:36:07,631 : worker thread finished; awaiting finish of 2 more threads\n",
            "2021-07-26 23:36:07,634 : EPOCH 20 - PROGRESS: at 98.64% examples, 164137 words/s, in_qsize 1, out_qsize 1\n",
            "2021-07-26 23:36:07,639 : worker thread finished; awaiting finish of 1 more threads\n",
            "2021-07-26 23:36:07,692 : worker thread finished; awaiting finish of 0 more threads\n",
            "2021-07-26 23:36:07,694 : EPOCH - 20 : training on 597929 raw words (502971 effective words) took 3.1s, 163174 effective words/s\n",
            "2021-07-26 23:36:08,778 : EPOCH 21 - PROGRESS: at 31.82% examples, 149219 words/s, in_qsize 5, out_qsize 0\n",
            "2021-07-26 23:36:09,798 : EPOCH 21 - PROGRESS: at 65.27% examples, 156789 words/s, in_qsize 5, out_qsize 0\n",
            "2021-07-26 23:36:10,732 : worker thread finished; awaiting finish of 2 more threads\n",
            "2021-07-26 23:36:10,755 : worker thread finished; awaiting finish of 1 more threads\n",
            "2021-07-26 23:36:10,781 : worker thread finished; awaiting finish of 0 more threads\n",
            "2021-07-26 23:36:10,782 : EPOCH - 21 : training on 597929 raw words (503000 effective words) took 3.1s, 163540 effective words/s\n",
            "2021-07-26 23:36:11,851 : EPOCH 22 - PROGRESS: at 31.82% examples, 151575 words/s, in_qsize 5, out_qsize 0\n",
            "2021-07-26 23:36:12,918 : EPOCH 22 - PROGRESS: at 66.94% examples, 158544 words/s, in_qsize 5, out_qsize 0\n",
            "2021-07-26 23:36:13,828 : worker thread finished; awaiting finish of 2 more threads\n",
            "2021-07-26 23:36:13,849 : worker thread finished; awaiting finish of 1 more threads\n",
            "2021-07-26 23:36:13,883 : worker thread finished; awaiting finish of 0 more threads\n",
            "2021-07-26 23:36:13,887 : EPOCH - 22 : training on 597929 raw words (502990 effective words) took 3.1s, 162750 effective words/s\n",
            "2021-07-26 23:36:14,954 : EPOCH 23 - PROGRESS: at 31.83% examples, 154854 words/s, in_qsize 5, out_qsize 0\n",
            "2021-07-26 23:36:15,997 : EPOCH 23 - PROGRESS: at 66.94% examples, 162056 words/s, in_qsize 5, out_qsize 0\n",
            "2021-07-26 23:36:16,887 : worker thread finished; awaiting finish of 2 more threads\n",
            "2021-07-26 23:36:16,926 : worker thread finished; awaiting finish of 1 more threads\n",
            "2021-07-26 23:36:16,953 : worker thread finished; awaiting finish of 0 more threads\n",
            "2021-07-26 23:36:16,954 : EPOCH - 23 : training on 597929 raw words (502972 effective words) took 3.0s, 165833 effective words/s\n",
            "2021-07-26 23:36:17,999 : EPOCH 24 - PROGRESS: at 31.82% examples, 155005 words/s, in_qsize 5, out_qsize 0\n",
            "2021-07-26 23:36:19,038 : EPOCH 24 - PROGRESS: at 65.27% examples, 158487 words/s, in_qsize 5, out_qsize 0\n",
            "2021-07-26 23:36:20,009 : worker thread finished; awaiting finish of 2 more threads\n",
            "2021-07-26 23:36:20,050 : EPOCH 24 - PROGRESS: at 98.64% examples, 161031 words/s, in_qsize 1, out_qsize 1\n",
            "2021-07-26 23:36:20,056 : worker thread finished; awaiting finish of 1 more threads\n",
            "2021-07-26 23:36:20,057 : worker thread finished; awaiting finish of 0 more threads\n",
            "2021-07-26 23:36:20,061 : EPOCH - 24 : training on 597929 raw words (503022 effective words) took 3.1s, 162673 effective words/s\n",
            "2021-07-26 23:36:21,075 : EPOCH 25 - PROGRESS: at 30.14% examples, 151221 words/s, in_qsize 5, out_qsize 0\n",
            "2021-07-26 23:36:22,190 : EPOCH 25 - PROGRESS: at 65.27% examples, 154923 words/s, in_qsize 3, out_qsize 2\n",
            "2021-07-26 23:36:23,092 : worker thread finished; awaiting finish of 2 more threads\n",
            "2021-07-26 23:36:23,138 : worker thread finished; awaiting finish of 1 more threads\n",
            "2021-07-26 23:36:23,143 : worker thread finished; awaiting finish of 0 more threads\n",
            "2021-07-26 23:36:23,144 : EPOCH - 25 : training on 597929 raw words (502749 effective words) took 3.1s, 163763 effective words/s\n",
            "2021-07-26 23:36:24,216 : EPOCH 26 - PROGRESS: at 33.49% examples, 158776 words/s, in_qsize 5, out_qsize 0\n",
            "2021-07-26 23:36:25,258 : EPOCH 26 - PROGRESS: at 66.94% examples, 160015 words/s, in_qsize 4, out_qsize 1\n",
            "2021-07-26 23:36:26,109 : worker thread finished; awaiting finish of 2 more threads\n",
            "2021-07-26 23:36:26,163 : worker thread finished; awaiting finish of 1 more threads\n",
            "2021-07-26 23:36:26,165 : worker thread finished; awaiting finish of 0 more threads\n",
            "2021-07-26 23:36:26,169 : EPOCH - 26 : training on 597929 raw words (502771 effective words) took 3.0s, 166896 effective words/s\n",
            "2021-07-26 23:36:27,187 : EPOCH 27 - PROGRESS: at 31.82% examples, 159232 words/s, in_qsize 5, out_qsize 0\n",
            "2021-07-26 23:36:28,202 : EPOCH 27 - PROGRESS: at 65.27% examples, 162437 words/s, in_qsize 5, out_qsize 0\n",
            "2021-07-26 23:36:29,162 : worker thread finished; awaiting finish of 2 more threads\n",
            "2021-07-26 23:36:29,200 : worker thread finished; awaiting finish of 1 more threads\n",
            "2021-07-26 23:36:29,213 : EPOCH 27 - PROGRESS: at 100.00% examples, 166026 words/s, in_qsize 0, out_qsize 1\n",
            "2021-07-26 23:36:29,215 : worker thread finished; awaiting finish of 0 more threads\n",
            "2021-07-26 23:36:29,216 : EPOCH - 27 : training on 597929 raw words (502947 effective words) took 3.0s, 165860 effective words/s\n",
            "2021-07-26 23:36:30,264 : EPOCH 28 - PROGRESS: at 31.82% examples, 154752 words/s, in_qsize 5, out_qsize 0\n",
            "2021-07-26 23:36:31,358 : EPOCH 28 - PROGRESS: at 66.94% examples, 158109 words/s, in_qsize 5, out_qsize 0\n",
            "2021-07-26 23:36:32,215 : worker thread finished; awaiting finish of 2 more threads\n",
            "2021-07-26 23:36:32,230 : worker thread finished; awaiting finish of 1 more threads\n",
            "2021-07-26 23:36:32,279 : worker thread finished; awaiting finish of 0 more threads\n",
            "2021-07-26 23:36:32,281 : EPOCH - 28 : training on 597929 raw words (502964 effective words) took 3.0s, 164933 effective words/s\n",
            "2021-07-26 23:36:33,316 : EPOCH 29 - PROGRESS: at 31.82% examples, 156210 words/s, in_qsize 5, out_qsize 0\n",
            "2021-07-26 23:36:34,345 : EPOCH 29 - PROGRESS: at 65.27% examples, 159780 words/s, in_qsize 5, out_qsize 0\n",
            "2021-07-26 23:36:35,238 : worker thread finished; awaiting finish of 2 more threads\n",
            "2021-07-26 23:36:35,305 : worker thread finished; awaiting finish of 1 more threads\n",
            "2021-07-26 23:36:35,307 : worker thread finished; awaiting finish of 0 more threads\n",
            "2021-07-26 23:36:35,309 : EPOCH - 29 : training on 597929 raw words (502912 effective words) took 3.0s, 166729 effective words/s\n",
            "2021-07-26 23:36:36,367 : EPOCH 30 - PROGRESS: at 31.82% examples, 153087 words/s, in_qsize 4, out_qsize 1\n",
            "2021-07-26 23:36:37,384 : EPOCH 30 - PROGRESS: at 66.94% examples, 163185 words/s, in_qsize 5, out_qsize 0\n",
            "2021-07-26 23:36:38,312 : worker thread finished; awaiting finish of 2 more threads\n",
            "2021-07-26 23:36:38,323 : worker thread finished; awaiting finish of 1 more threads\n",
            "2021-07-26 23:36:38,345 : worker thread finished; awaiting finish of 0 more threads\n",
            "2021-07-26 23:36:38,347 : EPOCH - 30 : training on 597929 raw words (502934 effective words) took 3.0s, 166316 effective words/s\n",
            "2021-07-26 23:36:38,352 : training on a 17937870 raw words (15087506 effective words) took 93.3s, 161783 effective words/s\n"
          ],
          "name": "stderr"
        },
        {
          "output_type": "execute_result",
          "data": {
            "text/plain": [
              "(15087506, 17937870)"
            ]
          },
          "metadata": {
            "tags": []
          },
          "execution_count": 43
        }
      ]
    },
    {
      "cell_type": "code",
      "metadata": {
        "colab": {
          "base_uri": "https://localhost:8080/"
        },
        "id": "j4bswmVWKwmU",
        "outputId": "7bdf88d3-0b60-45f0-9522-427dab059218"
      },
      "source": [
        "w2v_modelo_skipgram.wv.most_similar('futebol')"
      ],
      "execution_count": 51,
      "outputs": [
        {
          "output_type": "execute_result",
          "data": {
            "text/plain": [
              "[('confusões', 0.3390807807445526),\n",
              " ('cristiane', 0.3343549370765686),\n",
              " ('várzea', 0.3302125930786133),\n",
              " ('baixe', 0.322268545627594),\n",
              " ('espn', 0.31874409317970276),\n",
              " ('rúgbi', 0.3181766867637634),\n",
              " ('gramados', 0.31760266423225403),\n",
              " ('pênaltis', 0.31572258472442627),\n",
              " ('parma', 0.31116729974746704),\n",
              " ('seleções', 0.31063342094421387)]"
            ]
          },
          "metadata": {
            "tags": []
          },
          "execution_count": 51
        }
      ]
    },
    {
      "cell_type": "code",
      "metadata": {
        "colab": {
          "base_uri": "https://localhost:8080/"
        },
        "id": "pPaK71N5K_kj",
        "outputId": "364e8029-35db-4191-920e-0974b6b31568"
      },
      "source": [
        "w2v_modelo_cbow.wv.save_word2vec_format('/content/drive/MyDrive/Colab Notebooks/curso word2vec/modelo_cbow.txt', binary=False)\n",
        "w2v_modelo_skipgram.wv.save_word2vec_format('/content/drive/MyDrive/Colab Notebooks/curso word2vec/modelo_skipgram.txt', binary=False)"
      ],
      "execution_count": 52,
      "outputs": [
        {
          "output_type": "stream",
          "text": [
            "2021-07-26 23:44:30,751 : storing 13006x300 projection weights into /content/drive/MyDrive/Colab Notebooks/curso word2vec/modelo_cbow.txt\n",
            "2021-07-26 23:44:33,723 : storing 13006x300 projection weights into /content/drive/MyDrive/Colab Notebooks/curso word2vec/modelo_skipgram.txt\n"
          ],
          "name": "stderr"
        }
      ]
    },
    {
      "cell_type": "markdown",
      "metadata": {
        "id": "7nK_UCCPPkMm"
      },
      "source": [
        "# Classificação"
      ]
    },
    {
      "cell_type": "code",
      "metadata": {
        "id": "Hw9dqxpiS7vq"
      },
      "source": [
        "import pickle\n",
        "import numpy as np\n",
        "from gensim.models import KeyedVectors\n",
        "from sklearn.linear_model import LogisticRegression\n",
        "from sklearn.metrics import classification_report"
      ],
      "execution_count": 101,
      "outputs": []
    },
    {
      "cell_type": "code",
      "metadata": {
        "colab": {
          "base_uri": "https://localhost:8080/"
        },
        "id": "ZoA-LnjrTlWQ",
        "outputId": "ffd10f47-9028-40e4-cba2-592fbb0f57e6"
      },
      "source": [
        "nlp_c = spacy.load('pt_core_news_sm', disable=['parser', 'ner', 'tagger', 'textcat'])\n",
        "\n",
        "w2v_modelo_cbow_carregado = KeyedVectors.load_word2vec_format('/content/drive/MyDrive/Colab Notebooks/curso word2vec/modelo_cbow.txt')\n",
        "w2v_modelo_skip_carregado = KeyedVectors.load_word2vec_format('/content/drive/MyDrive/Colab Notebooks/curso word2vec/modelo_skipgram.txt')"
      ],
      "execution_count": 63,
      "outputs": [
        {
          "output_type": "stream",
          "text": [
            "2021-07-27 00:15:57,575 : loading projection weights from /content/drive/MyDrive/Colab Notebooks/curso word2vec/modelo_cbow.txt\n",
            "2021-07-27 00:16:01,610 : loaded (13006, 300) matrix from /content/drive/MyDrive/Colab Notebooks/curso word2vec/modelo_cbow.txt\n",
            "2021-07-27 00:16:01,615 : loading projection weights from /content/drive/MyDrive/Colab Notebooks/curso word2vec/modelo_skipgram.txt\n",
            "2021-07-27 00:16:05,542 : loaded (13006, 300) matrix from /content/drive/MyDrive/Colab Notebooks/curso word2vec/modelo_skipgram.txt\n"
          ],
          "name": "stderr"
        }
      ]
    },
    {
      "cell_type": "code",
      "metadata": {
        "id": "E67QSTCgPjhH"
      },
      "source": [
        "def tokenizador(texto):\n",
        "  tokens_validos = []\n",
        "\n",
        "  doc = nlp_c(texto)\n",
        "\n",
        "  for token in doc:\n",
        "    e_valido = (not token.is_stop) and token.is_alpha # verificação se o token não é stop word e é alphabetical\n",
        "    if e_valido:\n",
        "      tokens_validos.append((token.text).lower())\n",
        "\n",
        "  return tokens_validos\n",
        "\n",
        "def combinacao_vetores_soma(palavras, modelo):\n",
        "  vetor_resultante = np.zeros(300)\n",
        "\n",
        "  for pn in palavras:\n",
        "    try:\n",
        "      vetor_resultante += modelo.get_vector(pn)\n",
        "    except KeyError:\n",
        "      pass\n",
        "\n",
        "  return vetor_resultante\n",
        "\n",
        "def matriz_vetores(textos, modelo):\n",
        "  x = len(textos)\n",
        "  y = 300\n",
        "  matriz = np.zeros((x, y))\n",
        "\n",
        "  for i in range(x):\n",
        "    palavras = tokenizador(textos.iloc[i])\n",
        "    matriz[i] = combinacao_vetores_soma(palavras, modelo)\n",
        "  \n",
        "  return matriz"
      ],
      "execution_count": 74,
      "outputs": []
    },
    {
      "cell_type": "code",
      "metadata": {
        "colab": {
          "base_uri": "https://localhost:8080/"
        },
        "id": "tBvEQ0YUT9dl",
        "outputId": "9c25269b-7869-4150-a01b-ff9c6fa9fc96"
      },
      "source": [
        "palavras = tokenizador(\"texto exemplo carnaval é lindo\")\n",
        "print(palavras)\n",
        "vetor_texto = combinacao_vetores_soma(palavras, w2v_modelo_cbow_carregado)\n",
        "print(vetor_texto)"
      ],
      "execution_count": 69,
      "outputs": [
        {
          "output_type": "stream",
          "text": [
            "['texto', 'carnaval', 'lindo', 'dfsdfsdfsg']\n",
            "[-1.46037885 -0.81958984  0.24828935 -2.08132233 -1.02650494 -0.12647618\n",
            " -1.4014217   1.19009664  0.46694312  0.40847444 -0.0280055   0.30072606\n",
            "  0.27546617 -0.20799188  1.08978578  0.7655057  -1.16258472  0.14283474\n",
            " -0.32538996  1.76581847  0.5264964   1.29860345  0.97544291  0.27572726\n",
            " -0.97167648  0.69820934  0.62241239  0.91330803  0.48801127 -0.21948675\n",
            "  0.63351974  0.07870368  1.35928601  0.88303885 -0.87579308  0.01355197\n",
            "  0.05064841 -0.57912856  1.31571801 -0.72656734 -1.1046941  -0.78480443\n",
            " -0.54478377  0.20163465 -0.52918182  1.20637165  1.18871804 -0.34430226\n",
            " -0.77354899 -0.11728422 -0.06608269 -0.03157455 -1.13258262  1.31059946\n",
            " -0.48856129 -1.41943841 -0.17072408 -0.38371621  0.49916689 -1.52884786\n",
            " -1.55171576 -1.7597768   0.02994731 -0.61059779 -0.90203869  1.49907406\n",
            "  1.52603914  2.39689646  0.32426833 -1.40826777 -0.99394915  0.0718447\n",
            "  0.76289485 -0.49568949  0.79870636  1.43690552 -1.35399117  0.555282\n",
            " -0.67986217 -0.5203604  -0.28824863  1.09682305  0.20078114  0.35059404\n",
            "  0.05932954 -0.34809563 -0.32304212 -1.48364533 -0.39857037  0.99872599\n",
            " -1.15402278  0.1375543   0.14835353  0.66889774  0.41195662  0.5913193\n",
            "  1.32881555 -0.18671096 -0.85271318 -1.19965265  0.07190251 -0.13609573\n",
            "  0.27595651  1.57720122  0.11225227  0.37198392  1.82853451 -1.01752075\n",
            "  0.1534723   0.48412888  0.12065503  0.40449545  0.76766527 -0.6560096\n",
            "  0.65857808 -0.17648661 -0.93624732  0.59967813 -0.81997251  0.12106182\n",
            "  0.37962614  0.5394761  -1.10444195 -0.39945137  1.40029141  1.20485219\n",
            " -0.76998106 -1.14368466  1.18000805 -0.12186194  0.16694695  1.1427758\n",
            " -0.87401024 -0.78034492  0.76755099  0.04637671 -0.09932839 -1.55147365\n",
            " -0.8074077  -0.51905575  0.84784687 -0.3761715  -0.50974113 -0.92997811\n",
            "  0.44444741  1.2551319  -0.36531849 -0.8837009   1.25791008 -0.06396813\n",
            "  0.8721532   0.21446256 -0.28579152  0.20553428 -0.67071371 -0.03384902\n",
            " -0.16470591 -0.83986887 -0.75738952  0.1209896   0.56255016 -0.21793906\n",
            " -0.86000853 -0.38074628 -0.85758965  0.08643378 -0.55402531 -1.79541903\n",
            " -0.98202867 -1.40526368  0.09795963 -0.2621601  -0.21568804  0.73821923\n",
            " -0.24556477 -1.89261693 -0.29134127  0.85458195 -1.66999711  0.86555901\n",
            "  1.49385692  0.96746147 -0.82060114 -1.11969818  1.58523362 -0.40403658\n",
            "  0.42380878  0.20061873  0.77952412  1.72157596 -0.53619871  1.295699\n",
            "  0.22851211 -0.87461884 -0.65622875 -0.0360446   0.30855985 -0.76981576\n",
            "  0.75722185 -0.81421539  1.37238625 -0.2453462   0.67379248  0.98245279\n",
            " -0.23793486  0.51568913  1.08215916  0.42249675 -0.85343024  0.2958324\n",
            "  0.08809436 -0.52377714 -1.47359461 -0.1374452   0.49131326  0.55141464\n",
            " -0.5806101   1.62800617 -0.02498917  0.89693007  0.40797842 -0.0156712\n",
            "  0.83211848  0.40433903 -0.3595519   0.72142181 -0.24752851 -0.53455392\n",
            "  0.14671972 -1.82602648  0.83706189  0.73082177  0.83539528  0.44504493\n",
            "  0.47439019  1.18044228  0.28376092 -1.0789059  -0.3986147  -0.96931287\n",
            "  0.38800157 -0.58115396  1.71940157 -0.19213263 -0.07906462  0.91872449\n",
            "  0.01092771 -1.08326164 -1.10537861 -0.84885703  0.80851028  0.86624798\n",
            " -1.79504    -0.18800531  0.51061546  0.66694705  0.16684224 -0.76539285\n",
            "  0.23785175  0.47856466  0.64544083 -0.19463376 -2.02466142 -1.2807187\n",
            " -0.48826171  0.20630454  1.35276749  0.76222886 -0.58671027 -2.0562863\n",
            " -0.55803645  0.36370115 -1.64111748 -0.20659195  0.42427698  1.03431353\n",
            "  1.84069221 -1.60436189  0.02301512  1.02882679  0.26221853  0.05510861\n",
            "  0.46264181  0.41454058 -1.88714297 -0.04051787  0.66135799 -0.28245716\n",
            "  0.76749565  0.10461877  0.94411726  0.05898674 -0.66938749  0.21657681\n",
            " -0.47120345 -1.17927571  1.61470598  0.13620377 -0.32695645 -1.50789992]\n"
          ],
          "name": "stdout"
        }
      ]
    },
    {
      "cell_type": "code",
      "metadata": {
        "id": "d_pNTJMpfdch"
      },
      "source": [
        "matriz_vetores_treino_cbow = matriz_vetores(dados_treino.title, w2v_modelo_cbow_carregado)\n",
        "matriz_vetores_teste_cbow = matriz_vetores(dados_teste.title, w2v_modelo_cbow_carregado)\n",
        "\n",
        "matriz_vetores_treino_skip = matriz_vetores(dados_treino.title, w2v_modelo_skip_carregado)\n",
        "matriz_vetores_teste_skip = matriz_vetores(dados_teste.title, w2v_modelo_skip_carregado)"
      ],
      "execution_count": 75,
      "outputs": []
    },
    {
      "cell_type": "code",
      "metadata": {
        "colab": {
          "base_uri": "https://localhost:8080/"
        },
        "id": "LXN39DKth7hy",
        "outputId": "52171f91-f366-4344-dd71-de17f6eb126f"
      },
      "source": [
        "print(matriz_vetores_treino_cbow.shape)"
      ],
      "execution_count": 88,
      "outputs": [
        {
          "output_type": "stream",
          "text": [
            "(90000, 300)\n"
          ],
          "name": "stdout"
        }
      ]
    },
    {
      "cell_type": "code",
      "metadata": {
        "colab": {
          "base_uri": "https://localhost:8080/"
        },
        "id": "ogq4zsI0hQ4x",
        "outputId": "435fab34-c8f1-447c-d48f-77e3ca1f66e2"
      },
      "source": [
        "lr = LogisticRegression(max_iter=300, multi_class='multinomial')\n",
        "lr.fit(matriz_vetores_treino_cbow, dados_treino.category)"
      ],
      "execution_count": 95,
      "outputs": [
        {
          "output_type": "execute_result",
          "data": {
            "text/plain": [
              "LogisticRegression(C=1.0, class_weight=None, dual=False, fit_intercept=True,\n",
              "                   intercept_scaling=1, l1_ratio=None, max_iter=300,\n",
              "                   multi_class='multinomial', n_jobs=None, penalty='l2',\n",
              "                   random_state=None, solver='newton-cg', tol=0.0001, verbose=0,\n",
              "                   warm_start=False)"
            ]
          },
          "metadata": {
            "tags": []
          },
          "execution_count": 95
        }
      ]
    },
    {
      "cell_type": "code",
      "metadata": {
        "colab": {
          "base_uri": "https://localhost:8080/"
        },
        "id": "Qdc0bVyChhLJ",
        "outputId": "56ead2b3-1a45-4e5a-f78c-1226d71618d0"
      },
      "source": [
        "label_prevista = lr.predict(matriz_vetores_teste_cbow)\n",
        "lr.score(matriz_vetores_teste_cbow, dados_teste.category)"
      ],
      "execution_count": 96,
      "outputs": [
        {
          "output_type": "execute_result",
          "data": {
            "text/plain": [
              "0.7865256179008434"
            ]
          },
          "metadata": {
            "tags": []
          },
          "execution_count": 96
        }
      ]
    },
    {
      "cell_type": "code",
      "metadata": {
        "colab": {
          "base_uri": "https://localhost:8080/"
        },
        "id": "DRJu2XsUhumx",
        "outputId": "5818c01f-0f15-4889-e067-a124d6819ae3"
      },
      "source": [
        "cr = classification_report(dados_teste.category, label_prevista)\n",
        "print(cr)"
      ],
      "execution_count": 97,
      "outputs": [
        {
          "output_type": "stream",
          "text": [
            "              precision    recall  f1-score   support\n",
            "\n",
            "     colunas       0.81      0.71      0.76      6103\n",
            "   cotidiano       0.64      0.81      0.71      1698\n",
            "     esporte       0.93      0.86      0.89      4663\n",
            "   ilustrada       0.13      0.85      0.22       131\n",
            "     mercado       0.83      0.78      0.81      5867\n",
            "       mundo       0.74      0.84      0.79      2051\n",
            "\n",
            "    accuracy                           0.79     20513\n",
            "   macro avg       0.68      0.81      0.70     20513\n",
            "weighted avg       0.82      0.79      0.80     20513\n",
            "\n"
          ],
          "name": "stdout"
        }
      ]
    },
    {
      "cell_type": "code",
      "metadata": {
        "colab": {
          "base_uri": "https://localhost:8080/"
        },
        "id": "Iec52RVsiOO1",
        "outputId": "c9b0659d-bf53-4513-dc80-9d97a3b028cc"
      },
      "source": [
        "lr_skip = LogisticRegression(max_iter=300, multi_class='multinomial')\n",
        "lr_skip.fit(matriz_vetores_treino_skip, dados_treino.category)"
      ],
      "execution_count": 98,
      "outputs": [
        {
          "output_type": "execute_result",
          "data": {
            "text/plain": [
              "LogisticRegression(C=1.0, class_weight=None, dual=False, fit_intercept=True,\n",
              "                   intercept_scaling=1, l1_ratio=None, max_iter=300,\n",
              "                   multi_class='multinomial', n_jobs=None, penalty='l2',\n",
              "                   random_state=None, solver='lbfgs', tol=0.0001, verbose=0,\n",
              "                   warm_start=False)"
            ]
          },
          "metadata": {
            "tags": []
          },
          "execution_count": 98
        }
      ]
    },
    {
      "cell_type": "code",
      "metadata": {
        "colab": {
          "base_uri": "https://localhost:8080/"
        },
        "id": "VsKoHVm5lMzd",
        "outputId": "900d164e-2560-4b95-b162-636f71d30cc5"
      },
      "source": [
        "label_prevista_skip = lr_skip.predict(matriz_vetores_teste_skip)\n",
        "lr_skip.score(matriz_vetores_teste_skip, dados_teste.category)"
      ],
      "execution_count": 99,
      "outputs": [
        {
          "output_type": "execute_result",
          "data": {
            "text/plain": [
              "0.7946180470920879"
            ]
          },
          "metadata": {
            "tags": []
          },
          "execution_count": 99
        }
      ]
    },
    {
      "cell_type": "code",
      "metadata": {
        "colab": {
          "base_uri": "https://localhost:8080/"
        },
        "id": "8g4PKozWlOd2",
        "outputId": "ed841519-3146-4628-ed7e-46a03395d375"
      },
      "source": [
        "cr_skip = classification_report(dados_teste.category, label_prevista_skip)\n",
        "print(cr_skip)"
      ],
      "execution_count": 100,
      "outputs": [
        {
          "output_type": "stream",
          "text": [
            "              precision    recall  f1-score   support\n",
            "\n",
            "     colunas       0.81      0.72      0.76      6103\n",
            "   cotidiano       0.64      0.81      0.71      1698\n",
            "     esporte       0.93      0.87      0.90      4663\n",
            "   ilustrada       0.14      0.87      0.24       131\n",
            "     mercado       0.84      0.79      0.82      5867\n",
            "       mundo       0.76      0.84      0.80      2051\n",
            "\n",
            "    accuracy                           0.79     20513\n",
            "   macro avg       0.69      0.82      0.71     20513\n",
            "weighted avg       0.82      0.79      0.80     20513\n",
            "\n"
          ],
          "name": "stdout"
        }
      ]
    },
    {
      "cell_type": "code",
      "metadata": {
        "id": "WcI1gGf4reW3"
      },
      "source": [
        "with open('/content/drive/MyDrive/Colab Notebooks/curso word2vec/lr_cbow.pkl', 'wb') as f:\n",
        "  pickle.dump(lr, f)\n",
        "\n",
        "with open('/content/drive/MyDrive/Colab Notebooks/curso word2vec/lr_skip.pkl', 'wb') as f:\n",
        "  pickle.dump(lr_skip, f)"
      ],
      "execution_count": 102,
      "outputs": []
    }
  ]
}